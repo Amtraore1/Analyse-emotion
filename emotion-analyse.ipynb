{
 "cells": [
  {
   "cell_type": "code",
   "execution_count": 16,
   "id": "76d6a804",
   "metadata": {},
   "outputs": [],
   "source": [
    "import numpy as np \n",
    "import pandas as pd "
   ]
  },
  {
   "cell_type": "code",
   "execution_count": 17,
   "id": "968e004d",
   "metadata": {},
   "outputs": [
    {
     "data": {
      "text/html": [
       "<div>\n",
       "<style scoped>\n",
       "    .dataframe tbody tr th:only-of-type {\n",
       "        vertical-align: middle;\n",
       "    }\n",
       "\n",
       "    .dataframe tbody tr th {\n",
       "        vertical-align: top;\n",
       "    }\n",
       "\n",
       "    .dataframe thead th {\n",
       "        text-align: right;\n",
       "    }\n",
       "</style>\n",
       "<table border=\"1\" class=\"dataframe\">\n",
       "  <thead>\n",
       "    <tr style=\"text-align: right;\">\n",
       "      <th></th>\n",
       "      <th>Description</th>\n",
       "      <th>Emotion</th>\n",
       "    </tr>\n",
       "  </thead>\n",
       "  <tbody>\n",
       "    <tr>\n",
       "      <th>0</th>\n",
       "      <td>i didnt feel humiliated</td>\n",
       "      <td>sadness</td>\n",
       "    </tr>\n",
       "    <tr>\n",
       "      <th>1</th>\n",
       "      <td>i can go from feeling so hopeless to so damned...</td>\n",
       "      <td>sadness</td>\n",
       "    </tr>\n",
       "    <tr>\n",
       "      <th>2</th>\n",
       "      <td>im grabbing a minute to post i feel greedy wrong</td>\n",
       "      <td>anger</td>\n",
       "    </tr>\n",
       "    <tr>\n",
       "      <th>3</th>\n",
       "      <td>i am ever feeling nostalgic about the fireplac...</td>\n",
       "      <td>love</td>\n",
       "    </tr>\n",
       "    <tr>\n",
       "      <th>4</th>\n",
       "      <td>i am feeling grouchy</td>\n",
       "      <td>anger</td>\n",
       "    </tr>\n",
       "  </tbody>\n",
       "</table>\n",
       "</div>"
      ],
      "text/plain": [
       "                                         Description  Emotion\n",
       "0                            i didnt feel humiliated  sadness\n",
       "1  i can go from feeling so hopeless to so damned...  sadness\n",
       "2   im grabbing a minute to post i feel greedy wrong    anger\n",
       "3  i am ever feeling nostalgic about the fireplac...     love\n",
       "4                               i am feeling grouchy    anger"
      ]
     },
     "execution_count": 17,
     "metadata": {},
     "output_type": "execute_result"
    }
   ],
   "source": [
    "df = pd.read_csv(\"NLP_exam_emotions_dataset/train.txt\",sep=\";\",names=[\"Description\",\"Emotion\"])\n",
    "df.head(5)"
   ]
  },
  {
   "cell_type": "code",
   "execution_count": 18,
   "id": "a5c98381",
   "metadata": {},
   "outputs": [
    {
     "data": {
      "text/plain": [
       "Emotion\n",
       "joy         5362\n",
       "sadness     4666\n",
       "anger       2159\n",
       "fear        1937\n",
       "love        1304\n",
       "surprise     572\n",
       "Name: count, dtype: int64"
      ]
     },
     "execution_count": 18,
     "metadata": {},
     "output_type": "execute_result"
    }
   ],
   "source": [
    "df['Emotion'].value_counts()"
   ]
  },
  {
   "cell_type": "code",
   "execution_count": 23,
   "id": "5e696576",
   "metadata": {},
   "outputs": [
    {
     "data": {
      "image/png": "[encoded data removed]",
      "text/plain": [
       "<Figure size 800x400 with 1 Axes>"
      ]
     },
     "metadata": {},
     "output_type": "display_data"
    }
   ],
   "source": [
    "import matplotlib.pyplot as plt\n",
    "import seaborn as sns\n",
    "plt.figure(figsize=(8,4))\n",
    "sns.countplot(x='Emotion', data=df);"
   ]
  },
  {
   "cell_type": "code",
   "execution_count": 25,
   "id": "1f158b07",
   "metadata": {},
   "outputs": [
    {
     "data": {
      "text/plain": [
       "Description    0\n",
       "Emotion        0\n",
       "dtype: int64"
      ]
     },
     "execution_count": 25,
     "metadata": {},
     "output_type": "execute_result"
    }
   ],
   "source": [
    "df.isnull().sum()"
   ]
  },
  {
   "cell_type": "code",
   "execution_count": 20,
   "id": "9dc21a36",
   "metadata": {},
   "outputs": [
    {
     "name": "stdout",
     "output_type": "stream",
     "text": [
      "(16000, 2)\n"
     ]
    }
   ],
   "source": [
    "print(df.shape)"
   ]
  },
  {
   "cell_type": "code",
   "execution_count": 8,
   "id": "a720b681",
   "metadata": {},
   "outputs": [
    {
     "data": {
      "text/html": [
       "<div>\n",
       "<style scoped>\n",
       "    .dataframe tbody tr th:only-of-type {\n",
       "        vertical-align: middle;\n",
       "    }\n",
       "\n",
       "    .dataframe tbody tr th {\n",
       "        vertical-align: top;\n",
       "    }\n",
       "\n",
       "    .dataframe thead th {\n",
       "        text-align: right;\n",
       "    }\n",
       "</style>\n",
       "<table border=\"1\" class=\"dataframe\">\n",
       "  <thead>\n",
       "    <tr style=\"text-align: right;\">\n",
       "      <th></th>\n",
       "      <th>Description</th>\n",
       "      <th>Emotion</th>\n",
       "      <th>label_num</th>\n",
       "    </tr>\n",
       "  </thead>\n",
       "  <tbody>\n",
       "    <tr>\n",
       "      <th>0</th>\n",
       "      <td>i didnt feel humiliated</td>\n",
       "      <td>sadness</td>\n",
       "      <td>1</td>\n",
       "    </tr>\n",
       "    <tr>\n",
       "      <th>1</th>\n",
       "      <td>i can go from feeling so hopeless to so damned...</td>\n",
       "      <td>sadness</td>\n",
       "      <td>1</td>\n",
       "    </tr>\n",
       "    <tr>\n",
       "      <th>2</th>\n",
       "      <td>im grabbing a minute to post i feel greedy wrong</td>\n",
       "      <td>anger</td>\n",
       "      <td>2</td>\n",
       "    </tr>\n",
       "    <tr>\n",
       "      <th>3</th>\n",
       "      <td>i am ever feeling nostalgic about the fireplac...</td>\n",
       "      <td>love</td>\n",
       "      <td>4</td>\n",
       "    </tr>\n",
       "    <tr>\n",
       "      <th>4</th>\n",
       "      <td>i am feeling grouchy</td>\n",
       "      <td>anger</td>\n",
       "      <td>2</td>\n",
       "    </tr>\n",
       "  </tbody>\n",
       "</table>\n",
       "</div>"
      ],
      "text/plain": [
       "                                         Description  Emotion  label_num\n",
       "0                            i didnt feel humiliated  sadness          1\n",
       "1  i can go from feeling so hopeless to so damned...  sadness          1\n",
       "2   im grabbing a minute to post i feel greedy wrong    anger          2\n",
       "3  i am ever feeling nostalgic about the fireplac...     love          4\n",
       "4                               i am feeling grouchy    anger          2"
      ]
     },
     "execution_count": 8,
     "metadata": {},
     "output_type": "execute_result"
    }
   ],
   "source": [
    "df['label_num'] = df['Emotion'].map({\n",
    "    'joy' : 0, \n",
    "    'sadness': 1, \n",
    "    'anger': 2, \n",
    "    'fear': 3,\n",
    "    'love': 4,\n",
    "    'surprise':5\n",
    "})\n",
    "\n",
    "\n",
    "df.head(5)"
   ]
  },
  {
   "cell_type": "code",
   "execution_count": 14,
   "id": "80e4302a",
   "metadata": {},
   "outputs": [],
   "source": [
    "from sklearn.preprocessing import LabelEncoder\n",
    "labelencoder = LabelEncoder()\n",
    "df['label_enc'] = labelencoder.fit_transform(df['Emotion'])"
   ]
  },
  {
   "cell_type": "code",
   "execution_count": 15,
   "id": "6cdc3c32",
   "metadata": {},
   "outputs": [
    {
     "data": {
      "text/html": [
       "<div>\n",
       "<style scoped>\n",
       "    .dataframe tbody tr th:only-of-type {\n",
       "        vertical-align: middle;\n",
       "    }\n",
       "\n",
       "    .dataframe tbody tr th {\n",
       "        vertical-align: top;\n",
       "    }\n",
       "\n",
       "    .dataframe thead th {\n",
       "        text-align: right;\n",
       "    }\n",
       "</style>\n",
       "<table border=\"1\" class=\"dataframe\">\n",
       "  <thead>\n",
       "    <tr style=\"text-align: right;\">\n",
       "      <th></th>\n",
       "      <th>Emotion</th>\n",
       "      <th>label_enc</th>\n",
       "    </tr>\n",
       "  </thead>\n",
       "  <tbody>\n",
       "    <tr>\n",
       "      <th>0</th>\n",
       "      <td>sadness</td>\n",
       "      <td>4</td>\n",
       "    </tr>\n",
       "    <tr>\n",
       "      <th>2</th>\n",
       "      <td>anger</td>\n",
       "      <td>0</td>\n",
       "    </tr>\n",
       "    <tr>\n",
       "      <th>3</th>\n",
       "      <td>love</td>\n",
       "      <td>3</td>\n",
       "    </tr>\n",
       "    <tr>\n",
       "      <th>6</th>\n",
       "      <td>surprise</td>\n",
       "      <td>5</td>\n",
       "    </tr>\n",
       "    <tr>\n",
       "      <th>7</th>\n",
       "      <td>fear</td>\n",
       "      <td>1</td>\n",
       "    </tr>\n",
       "    <tr>\n",
       "      <th>8</th>\n",
       "      <td>joy</td>\n",
       "      <td>2</td>\n",
       "    </tr>\n",
       "  </tbody>\n",
       "</table>\n",
       "</div>"
      ],
      "text/plain": [
       "    Emotion  label_enc\n",
       "0   sadness          4\n",
       "2     anger          0\n",
       "3      love          3\n",
       "6  surprise          5\n",
       "7      fear          1\n",
       "8       joy          2"
      ]
     },
     "execution_count": 15,
     "metadata": {},
     "output_type": "execute_result"
    }
   ],
   "source": [
    "df[['Emotion','label_enc']].drop_duplicates(keep='first')"
   ]
  },
  {
   "cell_type": "code",
   "execution_count": null,
   "id": "58a97e81",
   "metadata": {},
   "outputs": [],
   "source": []
  },
  {
   "cell_type": "code",
   "execution_count": 26,
   "id": "415a46b8",
   "metadata": {},
   "outputs": [],
   "source": [
    "import nltk\n",
    "from nltk.corpus import stopwords\n",
    "from nltk.stem import WordNetLemmatizer\n",
    "import re"
   ]
  },
  {
   "cell_type": "code",
   "execution_count": 31,
   "id": "ef57b075",
   "metadata": {},
   "outputs": [],
   "source": [
    "#object of WordNetLemmatizer\n",
    "wordnet = WordNetLemmatizer()\n",
    "corpus=[]\n",
    "for i in range(len(df)):\n",
    "    review= re.sub('[^a-zAZ]',' ',df['Description'][i])\n",
    "    review= review.lower()\n",
    "    review= review.split()\n",
    "    review= [wordnet.lemmatize(word) for word in review if word not in set(stopwords.words('english'))]\n",
    "    review= ' '.join(review)\n",
    "    corpus.append(review)\n",
    "    "
   ]
  },
  {
   "cell_type": "code",
   "execution_count": 32,
   "id": "c3cee48a",
   "metadata": {},
   "outputs": [
    {
     "data": {
      "text/plain": [
       "'go feeling hopeless damned hopeful around someone care awake'"
      ]
     },
     "execution_count": 32,
     "metadata": {},
     "output_type": "execute_result"
    }
   ],
   "source": [
    "corpus[1]"
   ]
  },
  {
   "cell_type": "code",
   "execution_count": 34,
   "id": "e1ae052f",
   "metadata": {},
   "outputs": [
    {
     "data": {
      "text/plain": [
       "((16000, 13458), (16000,))"
      ]
     },
     "execution_count": 34,
     "metadata": {},
     "output_type": "execute_result"
    }
   ],
   "source": [
    "from sklearn.feature_extraction.text import CountVectorizer\n",
    "cv=CountVectorizer()\n",
    "traindata= cv.fit_transform(corpus)\n",
    "X= traindata \n",
    "y= df.Emotion \n",
    "X.shape,y.shape"
   ]
  },
  {
   "cell_type": "code",
   "execution_count": 40,
   "id": "0bc597f1",
   "metadata": {},
   "outputs": [],
   "source": [
    "import numpy as np\n",
    "import pandas as pd\n",
    "from sklearn.model_selection import train_test_split\n",
    "from sklearn.preprocessing import LabelEncoder\n",
    "import re\n",
    "from nltk.corpus import stopwords\n",
    "from nltk.stem import WordNetLemmatizer\n",
    "from sklearn.feature_extraction.text import CountVectorizer\n",
    "\n",
    "# Load the dataset\n",
    "df = pd.read_csv(\"NLP_exam_emotions_dataset/train.txt\", sep=\";\", names=[\"Description\", \"Emotion\"])\n",
    "\n",
    "# Preprocess the text data\n",
    "stop_words = set(stopwords.words('english'))\n",
    "wordnet = WordNetLemmatizer()\n",
    "\n",
    "def preprocess_text(text):\n",
    "    text = re.sub('[^a-zA-Z]', ' ', text)\n",
    "    text = text.lower()\n",
    "    text = text.split()\n",
    "    text = [wordnet.lemmatize(word) for word in text if word not in stop_words]\n",
    "    text = ' '.join(text)\n",
    "    return text\n",
    "\n",
    "df['Processed_Text'] = df['Description'].apply(preprocess_text)\n",
    "\n",
    "# Split the data into training and testing sets\n",
    "X = df['Processed_Text']\n",
    "y = df['Emotion']\n",
    "X_train, X_test, y_train, y_test = train_test_split(X, y, test_size=0.2, random_state=42)\n",
    "\n",
    "label_encoder = LabelEncoder()\n",
    "y_train_encoded = label_encoder.fit_transform(y_train)\n",
    "y_test_encoded = label_encoder.transform(y_test)\n"
   ]
  },
  {
   "cell_type": "markdown",
   "id": "5a8bc183",
   "metadata": {},
   "source": [
    "# Fully Connected Neural Network"
   ]
  },
  {
   "cell_type": "code",
   "execution_count": 41,
   "id": "a222ac3c",
   "metadata": {},
   "outputs": [
    {
     "name": "stdout",
     "output_type": "stream",
     "text": [
      "Epoch 1/10\n",
      "400/400 [==============================] - 9s 14ms/step - loss: 0.9317 - accuracy: 0.6705 - val_loss: 0.3747 - val_accuracy: 0.8703\n",
      "Epoch 2/10\n",
      "400/400 [==============================] - 5s 12ms/step - loss: 0.1969 - accuracy: 0.9379 - val_loss: 0.3398 - val_accuracy: 0.8831\n",
      "Epoch 3/10\n",
      "400/400 [==============================] - 5s 12ms/step - loss: 0.0819 - accuracy: 0.9740 - val_loss: 0.3830 - val_accuracy: 0.8788\n",
      "Epoch 4/10\n",
      "400/400 [==============================] - 5s 12ms/step - loss: 0.0494 - accuracy: 0.9849 - val_loss: 0.4245 - val_accuracy: 0.8772\n",
      "Epoch 5/10\n",
      "400/400 [==============================] - 5s 12ms/step - loss: 0.0351 - accuracy: 0.9889 - val_loss: 0.4598 - val_accuracy: 0.8766\n",
      "Epoch 6/10\n",
      "400/400 [==============================] - 5s 12ms/step - loss: 0.0262 - accuracy: 0.9924 - val_loss: 0.5175 - val_accuracy: 0.8703\n",
      "Epoch 7/10\n",
      "400/400 [==============================] - 5s 12ms/step - loss: 0.0235 - accuracy: 0.9924 - val_loss: 0.5530 - val_accuracy: 0.8728\n",
      "Epoch 8/10\n",
      "400/400 [==============================] - 5s 12ms/step - loss: 0.0163 - accuracy: 0.9952 - val_loss: 0.6241 - val_accuracy: 0.8687\n",
      "Epoch 9/10\n",
      "400/400 [==============================] - 5s 12ms/step - loss: 0.0181 - accuracy: 0.9941 - val_loss: 0.6225 - val_accuracy: 0.8684\n",
      "Epoch 10/10\n",
      "400/400 [==============================] - 5s 12ms/step - loss: 0.0146 - accuracy: 0.9952 - val_loss: 0.6624 - val_accuracy: 0.8675\n"
     ]
    },
    {
     "data": {
      "text/plain": [
       "<keras.callbacks.History at 0x1be310a4340>"
      ]
     },
     "execution_count": 41,
     "metadata": {},
     "output_type": "execute_result"
    }
   ],
   "source": [
    "from tensorflow.keras.models import Sequential\n",
    "from tensorflow.keras.layers import Dense, Dropout\n",
    "from tensorflow.keras.optimizers import Adam\n",
    "\n",
    "vectorizer = CountVectorizer()\n",
    "X_train_vec = vectorizer.fit_transform(X_train).toarray()\n",
    "X_test_vec = vectorizer.transform(X_test).toarray()\n",
    "\n",
    "model_fcnn = Sequential()\n",
    "model_fcnn.add(Dense(128, activation='relu', input_shape=(X_train_vec.shape[1],)))\n",
    "model_fcnn.add(Dropout(0.2))\n",
    "model_fcnn.add(Dense(64, activation='relu'))\n",
    "model_fcnn.add(Dropout(0.2))\n",
    "model_fcnn.add(Dense(len(label_encoder.classes_), activation='softmax'))\n",
    "\n",
    "model_fcnn.compile(loss='sparse_categorical_crossentropy', optimizer=Adam(), metrics=['accuracy'])\n",
    "model_fcnn.fit(X_train_vec, y_train_encoded, batch_size=32, epochs=10, validation_data=(X_test_vec, y_test_encoded))\n"
   ]
  },
  {
   "cell_type": "markdown",
   "id": "ce4d051f",
   "metadata": {},
   "source": [
    "# Recurrent Neural Network (RNN) with LSTM "
   ]
  },
  {
   "cell_type": "code",
   "execution_count": 43,
   "id": "adce49c9",
   "metadata": {},
   "outputs": [
    {
     "name": "stdout",
     "output_type": "stream",
     "text": [
      "Epoch 1/10\n",
      "400/400 [==============================] - 42s 91ms/step - loss: 1.1804 - accuracy: 0.5765 - val_loss: 0.5321 - val_accuracy: 0.8231\n",
      "Epoch 2/10\n",
      "400/400 [==============================] - 40s 100ms/step - loss: 0.2415 - accuracy: 0.9209 - val_loss: 0.3034 - val_accuracy: 0.8909\n",
      "Epoch 3/10\n",
      "400/400 [==============================] - 38s 95ms/step - loss: 0.0996 - accuracy: 0.9673 - val_loss: 0.3067 - val_accuracy: 0.8956\n",
      "Epoch 4/10\n",
      "400/400 [==============================] - 38s 96ms/step - loss: 0.0591 - accuracy: 0.9809 - val_loss: 0.3263 - val_accuracy: 0.8966\n",
      "Epoch 5/10\n",
      "400/400 [==============================] - 41s 101ms/step - loss: 0.0412 - accuracy: 0.9862 - val_loss: 0.3569 - val_accuracy: 0.9028\n",
      "Epoch 6/10\n",
      "400/400 [==============================] - 38s 96ms/step - loss: 0.0324 - accuracy: 0.9901 - val_loss: 0.3845 - val_accuracy: 0.8981\n",
      "Epoch 7/10\n",
      "400/400 [==============================] - 38s 96ms/step - loss: 0.0311 - accuracy: 0.9895 - val_loss: 0.3704 - val_accuracy: 0.8984\n",
      "Epoch 8/10\n",
      "400/400 [==============================] - 37s 94ms/step - loss: 0.0226 - accuracy: 0.9927 - val_loss: 0.4697 - val_accuracy: 0.8931\n",
      "Epoch 9/10\n",
      "400/400 [==============================] - 38s 94ms/step - loss: 0.0205 - accuracy: 0.9929 - val_loss: 0.3978 - val_accuracy: 0.8959\n",
      "Epoch 10/10\n",
      "400/400 [==============================] - 37s 93ms/step - loss: 0.0249 - accuracy: 0.9914 - val_loss: 0.4159 - val_accuracy: 0.8959\n"
     ]
    },
    {
     "data": {
      "text/plain": [
       "<keras.callbacks.History at 0x1be3444c3a0>"
      ]
     },
     "execution_count": 43,
     "metadata": {},
     "output_type": "execute_result"
    }
   ],
   "source": [
    "from tensorflow.keras.layers import Embedding, LSTM\n",
    "from tensorflow.keras.preprocessing.sequence import pad_sequences\n",
    "from tensorflow.keras.preprocessing.text import Tokenizer\n",
    "\n",
    "\n",
    "max_sequence_length = 100 \n",
    "tokenizer = Tokenizer()\n",
    "tokenizer.fit_on_texts(X_train)\n",
    "X_train_seq = tokenizer.texts_to_sequences(X_train)\n",
    "X_test_seq = tokenizer.texts_to_sequences(X_test)\n",
    "\n",
    "X_train_pad = pad_sequences(X_train_seq, maxlen=max_sequence_length)\n",
    "X_test_pad = pad_sequences(X_test_seq, maxlen=max_sequence_length)\n",
    "\n",
    "\n",
    "model_rnn = Sequential()\n",
    "model_rnn.add(Embedding(input_dim=len(tokenizer.word_index) + 1, output_dim=100, input_length=max_sequence_length))\n",
    "model_rnn.add(LSTM(128))\n",
    "model_rnn.add(Dense(len(label_encoder.classes_), activation='softmax'))\n",
    "\n",
    "\n",
    "model_rnn.compile(loss='sparse_categorical_crossentropy', optimizer=Adam(), metrics=['accuracy'])\n",
    "model_rnn.fit(X_train_pad, y_train_encoded, batch_size=32, epochs=10, validation_data=(X_test_pad, y_test_encoded))\n"
   ]
  },
  {
   "cell_type": "markdown",
   "id": "8f7480b8",
   "metadata": {},
   "source": [
    "# Fine-tuned Transformer Architecture"
   ]
  },
  {
   "cell_type": "code",
   "execution_count": null,
   "id": "7bc4f0ea",
   "metadata": {},
   "outputs": [
    {
     "name": "stderr",
     "output_type": "stream",
     "text": [
      "Some weights of the PyTorch model were not used when initializing the TF 2.0 model TFDistilBertForSequenceClassification: ['vocab_layer_norm.weight', 'vocab_transform.bias', 'vocab_layer_norm.bias', 'vocab_transform.weight', 'vocab_projector.bias']\n",
      "- This IS expected if you are initializing TFDistilBertForSequenceClassification from a PyTorch model trained on another task or with another architecture (e.g. initializing a TFBertForSequenceClassification model from a BertForPreTraining model).\n",
      "- This IS NOT expected if you are initializing TFDistilBertForSequenceClassification from a PyTorch model that you expect to be exactly identical (e.g. initializing a TFBertForSequenceClassification model from a BertForSequenceClassification model).\n",
      "Some weights or buffers of the TF 2.0 model TFDistilBertForSequenceClassification were not initialized from the PyTorch model and are newly initialized: ['pre_classifier.weight', 'pre_classifier.bias', 'classifier.weight', 'classifier.bias']\n",
      "You should probably TRAIN this model on a down-stream task to be able to use it for predictions and inference.\n"
     ]
    },
    {
     "name": "stdout",
     "output_type": "stream",
     "text": [
      "Epoch 1/3\n",
      " 28/800 [>.............................] - ETA: 1:43:48 - loss: 1.5833 - accuracy: 0.3951"
     ]
    }
   ],
   "source": [
    "from transformers import DistilBertTokenizer, TFDistilBertForSequenceClassification\n",
    "from sklearn.metrics import classification_report\n",
    "import tensorflow as tf\n",
    "\n",
    "tokenizer_transformer = DistilBertTokenizer.from_pretrained('distilbert-base-uncased')\n",
    "model_transformer = TFDistilBertForSequenceClassification.from_pretrained('distilbert-base-uncased', num_labels=len(label_encoder.classes_))\n",
    "\n",
    "\n",
    "X_train_transformer = tokenizer_transformer.batch_encode_plus(\n",
    "    X_train.tolist(),\n",
    "    truncation=True,\n",
    "    max_length=128,\n",
    "    padding='max_length',\n",
    "    return_token_type_ids=False\n",
    ")\n",
    "\n",
    "X_test_transformer = tokenizer_transformer.batch_encode_plus(\n",
    "    X_test.tolist(),\n",
    "    truncation=True,\n",
    "    max_length=128,\n",
    "    padding='max_length',\n",
    "    return_token_type_ids=False\n",
    ")\n",
    "\n",
    "\n",
    "train_dataset_transformer = tf.data.Dataset.from_tensor_slices((\n",
    "    dict(X_train_transformer),\n",
    "    y_train_encoded\n",
    "))\n",
    "\n",
    "test_dataset_transformer = tf.data.Dataset.from_tensor_slices((\n",
    "    dict(X_test_transformer),\n",
    "    y_test_encoded\n",
    "))\n",
    "\n",
    "\n",
    "optimizer_transformer = tf.keras.optimizers.Adam(learning_rate=5e-5)\n",
    "loss_transformer = tf.keras.losses.SparseCategoricalCrossentropy(from_logits=True)\n",
    "metric_transformer = tf.keras.metrics.SparseCategoricalAccuracy('accuracy')\n",
    "\n",
    "model_transformer.compile(optimizer=optimizer_transformer, loss=loss_transformer, metrics=[metric_transformer])\n",
    "model_transformer.fit(train_dataset_transformer.shuffle(100).batch(16), epochs=3)\n",
    "\n",
    "\n",
    "preds_transformer = model_transformer.predict(test_dataset_transformer.batch(16)).logits.numpy().argmax(axis=-1)\n",
    "classification_report_transformer = classification_report(y_test_encoded, preds_transformer, target_names=label_encoder.classes_)\n",
    "print(classification_report_transformer)\n"
   ]
  },
  {
   "cell_type": "markdown",
   "id": "57f99560",
   "metadata": {},
   "source": [
    "# Compare the different models to find the best approach"
   ]
  },
  {
   "cell_type": "code",
   "execution_count": 51,
   "id": "0d4a2b9a",
   "metadata": {},
   "outputs": [
    {
     "name": "stdout",
     "output_type": "stream",
     "text": [
      "100/100 [==============================] - 4s 35ms/step\n",
      "Recurrent Neural Network (RNN) Evaluation:\n",
      "Accuracy: 0.8959375\n",
      "Classification Report:\n",
      "               precision    recall  f1-score   support\n",
      "\n",
      "       anger       0.90      0.90      0.90       427\n",
      "        fear       0.89      0.85      0.87       397\n",
      "         joy       0.92      0.92      0.92      1021\n",
      "        love       0.79      0.76      0.78       296\n",
      "     sadness       0.92      0.95      0.93       946\n",
      "    surprise       0.79      0.74      0.77       113\n",
      "\n",
      "    accuracy                           0.90      3200\n",
      "   macro avg       0.87      0.85      0.86      3200\n",
      "weighted avg       0.90      0.90      0.90      3200\n",
      "\n",
      "Confusion Matrix:\n",
      " [[383   8   9   4  20   3]\n",
      " [ 21 336  10   1  15  14]\n",
      " [  1   3 941  50  23   3]\n",
      " [  4   4  47 226  15   0]\n",
      " [ 17  10  16   4 897   2]\n",
      " [  0  16   5   0   8  84]]\n"
     ]
    },
    {
     "data": {
      "image/png": "[encoded data removed]",
      "text/plain": [
       "<Figure size 800x600 with 1 Axes>"
      ]
     },
     "metadata": {},
     "output_type": "display_data"
    }
   ],
   "source": [
    "from sklearn.metrics import classification_report, confusion_matrix, accuracy_score\n",
    "import matplotlib.pyplot as plt\n",
    "import seaborn as sns\n",
    "\n",
    "y_pred_rnn_prob = model_rnn.predict(X_test_pad_seq)\n",
    "y_pred_rnn = np.argmax(y_pred_rnn_prob, axis=1)\n",
    "accuracy_rnn = accuracy_score(y_test_encoded, y_pred_rnn)\n",
    "classification_report_rnn = classification_report(y_test_encoded, y_pred_rnn, target_names=label_encoder.classes_)\n",
    "confusion_matrix_rnn = confusion_matrix(y_test_encoded, y_pred_rnn)\n",
    "\n",
    "# Print and visualize the evaluation results\n",
    "print(\"Recurrent Neural Network (RNN) Evaluation:\")\n",
    "print(\"Accuracy:\", accuracy_rnn)\n",
    "print(\"Classification Report:\\n\", classification_report_rnn)\n",
    "print(\"Confusion Matrix:\\n\", confusion_matrix_rnn)\n",
    "\n",
    "plt.figure(figsize=(8, 6))\n",
    "sns.heatmap(confusion_matrix_rnn, annot=True, fmt=\"d\", cmap=\"Blues\", cbar=False)\n",
    "plt.title(\"RNN Confusion Matrix\")\n",
    "plt.xlabel(\"Predicted Label\")\n",
    "plt.ylabel(\"True Label\")\n",
    "plt.show()\n"
   ]
  },
  {
   "cell_type": "markdown",
   "id": "643d81ee",
   "metadata": {},
   "source": [
    "# duplicate it on a “reallife”text classification approach"
   ]
  },
  {
   "cell_type": "code",
   "execution_count": null,
   "id": "ad1d734a",
   "metadata": {},
   "outputs": [],
   "source": []
  }
 ],
 "metadata": {
  "kernelspec": {
   "display_name": "Python 3 (ipykernel)",
   "language": "python",
   "name": "python3"
  },
  "language_info": {
   "codemirror_mode": {
    "name": "ipython",
    "version": 3
   },
   "file_extension": ".py",
   "mimetype": "text/x-python",
   "name": "python",
   "nbconvert_exporter": "python",
   "pygments_lexer": "ipython3",
   "version": "3.10.10"
  }
 },
 "nbformat": 4,
 "nbformat_minor": 5
}
